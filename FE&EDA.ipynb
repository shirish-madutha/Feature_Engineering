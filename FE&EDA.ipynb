{
 "cells": [
  {
   "cell_type": "code",
   "execution_count": 49,
   "id": "d8bbadb3-70e2-47b7-a9ea-f49d5332facb",
   "metadata": {},
   "outputs": [],
   "source": [
    "import numpy as np\n",
    "import pandas as pd\n",
    "import seaborn as sns\n",
    "import matplotlib.pyplot as plt\n",
    "%matplotlib inline\n",
    "import warnings\n",
    "warnings.filterwarnings(\"ignore\")"
   ]
  },
  {
   "cell_type": "code",
   "execution_count": 50,
   "id": "0b5f51f3-cbb9-41c8-aed0-164b7b955adc",
   "metadata": {},
   "outputs": [],
   "source": [
    "df=pd.read_excel(\"Test_set.xlsx\")"
   ]
  },
  {
   "cell_type": "code",
   "execution_count": 51,
   "id": "becee294-1d79-454b-9cfe-3e9e62de8f3a",
   "metadata": {},
   "outputs": [
    {
     "data": {
      "text/plain": [
       "Airline            0\n",
       "Date_of_Journey    0\n",
       "Source             0\n",
       "Destination        0\n",
       "Route              0\n",
       "Dep_Time           0\n",
       "Arrival_Time       0\n",
       "Duration           0\n",
       "Total_Stops        0\n",
       "Additional_Info    0\n",
       "dtype: int64"
      ]
     },
     "execution_count": 51,
     "metadata": {},
     "output_type": "execute_result"
    }
   ],
   "source": [
    "df.isnull().sum()"
   ]
  },
  {
   "cell_type": "code",
   "execution_count": 52,
   "id": "29b89936-8f94-4e4b-b4e9-f0372d7457d8",
   "metadata": {},
   "outputs": [
    {
     "data": {
      "text/plain": [
       "(2671, 10)"
      ]
     },
     "execution_count": 52,
     "metadata": {},
     "output_type": "execute_result"
    }
   ],
   "source": [
    "df.shape"
   ]
  },
  {
   "cell_type": "code",
   "execution_count": 53,
   "id": "cb19a6a9-baa3-4f98-a25f-6a694d60c69b",
   "metadata": {},
   "outputs": [
    {
     "data": {
      "text/plain": [
       "Airline             11\n",
       "Date_of_Journey     44\n",
       "Source               5\n",
       "Destination          6\n",
       "Route              100\n",
       "Dep_Time           199\n",
       "Arrival_Time       704\n",
       "Duration           320\n",
       "Total_Stops          5\n",
       "Additional_Info      6\n",
       "dtype: int64"
      ]
     },
     "execution_count": 53,
     "metadata": {},
     "output_type": "execute_result"
    }
   ],
   "source": [
    "df.nunique()"
   ]
  },
  {
   "cell_type": "code",
   "execution_count": 54,
   "id": "5011c384-dea1-43a1-b304-1fb1cd7b6b32",
   "metadata": {},
   "outputs": [
    {
     "data": {
      "text/plain": [
       "Airline            object\n",
       "Date_of_Journey    object\n",
       "Source             object\n",
       "Destination        object\n",
       "Route              object\n",
       "Dep_Time           object\n",
       "Arrival_Time       object\n",
       "Duration           object\n",
       "Total_Stops        object\n",
       "Additional_Info    object\n",
       "dtype: object"
      ]
     },
     "execution_count": 54,
     "metadata": {},
     "output_type": "execute_result"
    }
   ],
   "source": [
    "df.dtypes"
   ]
  },
  {
   "cell_type": "code",
   "execution_count": 55,
   "id": "95137b5f-13b4-446a-baaa-5166de70836d",
   "metadata": {},
   "outputs": [
    {
     "data": {
      "text/html": [
       "<div>\n",
       "<style scoped>\n",
       "    .dataframe tbody tr th:only-of-type {\n",
       "        vertical-align: middle;\n",
       "    }\n",
       "\n",
       "    .dataframe tbody tr th {\n",
       "        vertical-align: top;\n",
       "    }\n",
       "\n",
       "    .dataframe thead th {\n",
       "        text-align: right;\n",
       "    }\n",
       "</style>\n",
       "<table border=\"1\" class=\"dataframe\">\n",
       "  <thead>\n",
       "    <tr style=\"text-align: right;\">\n",
       "      <th></th>\n",
       "      <th>Airline</th>\n",
       "      <th>Date_of_Journey</th>\n",
       "      <th>Source</th>\n",
       "      <th>Destination</th>\n",
       "      <th>Route</th>\n",
       "      <th>Dep_Time</th>\n",
       "      <th>Arrival_Time</th>\n",
       "      <th>Duration</th>\n",
       "      <th>Total_Stops</th>\n",
       "      <th>Additional_Info</th>\n",
       "    </tr>\n",
       "  </thead>\n",
       "  <tbody>\n",
       "    <tr>\n",
       "      <th>0</th>\n",
       "      <td>Jet Airways</td>\n",
       "      <td>6/06/2019</td>\n",
       "      <td>Delhi</td>\n",
       "      <td>Cochin</td>\n",
       "      <td>DEL → BOM → COK</td>\n",
       "      <td>17:30</td>\n",
       "      <td>04:25 07 Jun</td>\n",
       "      <td>10h 55m</td>\n",
       "      <td>1 stop</td>\n",
       "      <td>No info</td>\n",
       "    </tr>\n",
       "    <tr>\n",
       "      <th>1</th>\n",
       "      <td>IndiGo</td>\n",
       "      <td>12/05/2019</td>\n",
       "      <td>Kolkata</td>\n",
       "      <td>Banglore</td>\n",
       "      <td>CCU → MAA → BLR</td>\n",
       "      <td>06:20</td>\n",
       "      <td>10:20</td>\n",
       "      <td>4h</td>\n",
       "      <td>1 stop</td>\n",
       "      <td>No info</td>\n",
       "    </tr>\n",
       "  </tbody>\n",
       "</table>\n",
       "</div>"
      ],
      "text/plain": [
       "       Airline Date_of_Journey   Source Destination            Route Dep_Time  \\\n",
       "0  Jet Airways       6/06/2019    Delhi      Cochin  DEL → BOM → COK    17:30   \n",
       "1       IndiGo      12/05/2019  Kolkata    Banglore  CCU → MAA → BLR    06:20   \n",
       "\n",
       "   Arrival_Time Duration Total_Stops Additional_Info  \n",
       "0  04:25 07 Jun  10h 55m      1 stop         No info  \n",
       "1         10:20       4h      1 stop         No info  "
      ]
     },
     "execution_count": 55,
     "metadata": {},
     "output_type": "execute_result"
    }
   ],
   "source": [
    "df.head(2)"
   ]
  },
  {
   "cell_type": "code",
   "execution_count": 56,
   "id": "e81bc054-aa71-4bcc-b850-b5b38e2b4bf5",
   "metadata": {},
   "outputs": [
    {
     "data": {
      "text/plain": [
       "26"
      ]
     },
     "execution_count": 56,
     "metadata": {},
     "output_type": "execute_result"
    }
   ],
   "source": [
    "df.duplicated().sum()"
   ]
  },
  {
   "cell_type": "code",
   "execution_count": 57,
   "id": "37d8138a-2c13-439e-897d-2d7231adfe6f",
   "metadata": {},
   "outputs": [],
   "source": [
    "df.drop_duplicates(inplace=True)"
   ]
  },
  {
   "cell_type": "code",
   "execution_count": 58,
   "id": "bafb9ed9-fcf4-41bf-a76a-1152327da1bb",
   "metadata": {},
   "outputs": [
    {
     "data": {
      "text/plain": [
       "(2645, 10)"
      ]
     },
     "execution_count": 58,
     "metadata": {},
     "output_type": "execute_result"
    }
   ],
   "source": [
    "df.shape"
   ]
  },
  {
   "cell_type": "code",
   "execution_count": 59,
   "id": "11e17233-96ea-48c8-8c43-a550f97e010f",
   "metadata": {},
   "outputs": [],
   "source": [
    "df.drop(columns=\"Route\", axis=1, inplace=True)"
   ]
  },
  {
   "cell_type": "code",
   "execution_count": 60,
   "id": "a30f760a-061c-4726-b493-e6ba191ea8e6",
   "metadata": {},
   "outputs": [
    {
     "data": {
      "text/html": [
       "<div>\n",
       "<style scoped>\n",
       "    .dataframe tbody tr th:only-of-type {\n",
       "        vertical-align: middle;\n",
       "    }\n",
       "\n",
       "    .dataframe tbody tr th {\n",
       "        vertical-align: top;\n",
       "    }\n",
       "\n",
       "    .dataframe thead th {\n",
       "        text-align: right;\n",
       "    }\n",
       "</style>\n",
       "<table border=\"1\" class=\"dataframe\">\n",
       "  <thead>\n",
       "    <tr style=\"text-align: right;\">\n",
       "      <th></th>\n",
       "      <th>Airline</th>\n",
       "      <th>Date_of_Journey</th>\n",
       "      <th>Source</th>\n",
       "      <th>Destination</th>\n",
       "      <th>Dep_Time</th>\n",
       "      <th>Arrival_Time</th>\n",
       "      <th>Duration</th>\n",
       "      <th>Total_Stops</th>\n",
       "      <th>Additional_Info</th>\n",
       "    </tr>\n",
       "  </thead>\n",
       "  <tbody>\n",
       "    <tr>\n",
       "      <th>0</th>\n",
       "      <td>Jet Airways</td>\n",
       "      <td>6/06/2019</td>\n",
       "      <td>Delhi</td>\n",
       "      <td>Cochin</td>\n",
       "      <td>17:30</td>\n",
       "      <td>04:25 07 Jun</td>\n",
       "      <td>10h 55m</td>\n",
       "      <td>1 stop</td>\n",
       "      <td>No info</td>\n",
       "    </tr>\n",
       "    <tr>\n",
       "      <th>1</th>\n",
       "      <td>IndiGo</td>\n",
       "      <td>12/05/2019</td>\n",
       "      <td>Kolkata</td>\n",
       "      <td>Banglore</td>\n",
       "      <td>06:20</td>\n",
       "      <td>10:20</td>\n",
       "      <td>4h</td>\n",
       "      <td>1 stop</td>\n",
       "      <td>No info</td>\n",
       "    </tr>\n",
       "  </tbody>\n",
       "</table>\n",
       "</div>"
      ],
      "text/plain": [
       "       Airline Date_of_Journey   Source Destination Dep_Time  Arrival_Time  \\\n",
       "0  Jet Airways       6/06/2019    Delhi      Cochin    17:30  04:25 07 Jun   \n",
       "1       IndiGo      12/05/2019  Kolkata    Banglore    06:20         10:20   \n",
       "\n",
       "  Duration Total_Stops Additional_Info  \n",
       "0  10h 55m      1 stop         No info  \n",
       "1       4h      1 stop         No info  "
      ]
     },
     "execution_count": 60,
     "metadata": {},
     "output_type": "execute_result"
    }
   ],
   "source": [
    "df.head(2)"
   ]
  },
  {
   "cell_type": "code",
   "execution_count": 61,
   "id": "f277e86e-6677-4ff3-8d69-263c8b6341a6",
   "metadata": {},
   "outputs": [
    {
     "data": {
      "text/html": [
       "<div>\n",
       "<style scoped>\n",
       "    .dataframe tbody tr th:only-of-type {\n",
       "        vertical-align: middle;\n",
       "    }\n",
       "\n",
       "    .dataframe tbody tr th {\n",
       "        vertical-align: top;\n",
       "    }\n",
       "\n",
       "    .dataframe thead th {\n",
       "        text-align: right;\n",
       "    }\n",
       "</style>\n",
       "<table border=\"1\" class=\"dataframe\">\n",
       "  <thead>\n",
       "    <tr style=\"text-align: right;\">\n",
       "      <th></th>\n",
       "      <th>Airline</th>\n",
       "      <th>Date_of_Journey</th>\n",
       "      <th>Source</th>\n",
       "      <th>Destination</th>\n",
       "      <th>Dep_Time</th>\n",
       "      <th>Arrival_Time</th>\n",
       "      <th>Duration</th>\n",
       "      <th>Total_Stops</th>\n",
       "      <th>Additional_Info</th>\n",
       "    </tr>\n",
       "  </thead>\n",
       "  <tbody>\n",
       "    <tr>\n",
       "      <th>count</th>\n",
       "      <td>2645</td>\n",
       "      <td>2645</td>\n",
       "      <td>2645</td>\n",
       "      <td>2645</td>\n",
       "      <td>2645</td>\n",
       "      <td>2645</td>\n",
       "      <td>2645</td>\n",
       "      <td>2645</td>\n",
       "      <td>2645</td>\n",
       "    </tr>\n",
       "    <tr>\n",
       "      <th>unique</th>\n",
       "      <td>11</td>\n",
       "      <td>44</td>\n",
       "      <td>5</td>\n",
       "      <td>6</td>\n",
       "      <td>199</td>\n",
       "      <td>704</td>\n",
       "      <td>320</td>\n",
       "      <td>5</td>\n",
       "      <td>6</td>\n",
       "    </tr>\n",
       "    <tr>\n",
       "      <th>top</th>\n",
       "      <td>Jet Airways</td>\n",
       "      <td>9/05/2019</td>\n",
       "      <td>Delhi</td>\n",
       "      <td>Cochin</td>\n",
       "      <td>10:00</td>\n",
       "      <td>19:00</td>\n",
       "      <td>2h 50m</td>\n",
       "      <td>1 stop</td>\n",
       "      <td>No info</td>\n",
       "    </tr>\n",
       "    <tr>\n",
       "      <th>freq</th>\n",
       "      <td>886</td>\n",
       "      <td>143</td>\n",
       "      <td>1127</td>\n",
       "      <td>1127</td>\n",
       "      <td>61</td>\n",
       "      <td>112</td>\n",
       "      <td>121</td>\n",
       "      <td>1427</td>\n",
       "      <td>2126</td>\n",
       "    </tr>\n",
       "  </tbody>\n",
       "</table>\n",
       "</div>"
      ],
      "text/plain": [
       "            Airline Date_of_Journey Source Destination Dep_Time Arrival_Time  \\\n",
       "count          2645            2645   2645        2645     2645         2645   \n",
       "unique           11              44      5           6      199          704   \n",
       "top     Jet Airways       9/05/2019  Delhi      Cochin    10:00        19:00   \n",
       "freq            886             143   1127        1127       61          112   \n",
       "\n",
       "       Duration Total_Stops Additional_Info  \n",
       "count      2645        2645            2645  \n",
       "unique      320           5               6  \n",
       "top      2h 50m      1 stop         No info  \n",
       "freq        121        1427            2126  "
      ]
     },
     "execution_count": 61,
     "metadata": {},
     "output_type": "execute_result"
    }
   ],
   "source": [
    "df.describe()"
   ]
  },
  {
   "cell_type": "code",
   "execution_count": 62,
   "id": "1383d729-22cc-42d5-818b-e451edfcce4d",
   "metadata": {},
   "outputs": [],
   "source": [
    "df[\"day\"]=df[\"Date_of_Journey\"].str.split(\"/\").str[0]\n",
    "df[\"month\"]=df[\"Date_of_Journey\"].str.split(\"/\").str[1]\n",
    "df[\"year\"]=df[\"Date_of_Journey\"].str.split(\"/\").str[2]"
   ]
  },
  {
   "cell_type": "code",
   "execution_count": 63,
   "id": "7b20f860-74f2-44da-9376-981e5a3b7584",
   "metadata": {},
   "outputs": [],
   "source": [
    "df[\"day\"]=df[\"day\"].astype(int)\n",
    "df[\"month\"]=df[\"month\"].astype(int)\n",
    "df[\"year\"]=df[\"year\"].astype(int)"
   ]
  },
  {
   "cell_type": "code",
   "execution_count": 64,
   "id": "f46e2e5e-3d66-4fd2-b0cf-d5d6f27ff4e3",
   "metadata": {},
   "outputs": [
    {
     "data": {
      "text/plain": [
       "Airline            object\n",
       "Date_of_Journey    object\n",
       "Source             object\n",
       "Destination        object\n",
       "Dep_Time           object\n",
       "Arrival_Time       object\n",
       "Duration           object\n",
       "Total_Stops        object\n",
       "Additional_Info    object\n",
       "day                 int64\n",
       "month               int64\n",
       "year                int64\n",
       "dtype: object"
      ]
     },
     "execution_count": 64,
     "metadata": {},
     "output_type": "execute_result"
    }
   ],
   "source": [
    "df.dtypes"
   ]
  },
  {
   "cell_type": "code",
   "execution_count": 65,
   "id": "113757c2-5d0c-4f97-b537-636257131e06",
   "metadata": {},
   "outputs": [
    {
     "data": {
      "text/html": [
       "<div>\n",
       "<style scoped>\n",
       "    .dataframe tbody tr th:only-of-type {\n",
       "        vertical-align: middle;\n",
       "    }\n",
       "\n",
       "    .dataframe tbody tr th {\n",
       "        vertical-align: top;\n",
       "    }\n",
       "\n",
       "    .dataframe thead th {\n",
       "        text-align: right;\n",
       "    }\n",
       "</style>\n",
       "<table border=\"1\" class=\"dataframe\">\n",
       "  <thead>\n",
       "    <tr style=\"text-align: right;\">\n",
       "      <th></th>\n",
       "      <th>Airline</th>\n",
       "      <th>Date_of_Journey</th>\n",
       "      <th>Source</th>\n",
       "      <th>Destination</th>\n",
       "      <th>Dep_Time</th>\n",
       "      <th>Arrival_Time</th>\n",
       "      <th>Duration</th>\n",
       "      <th>Total_Stops</th>\n",
       "      <th>Additional_Info</th>\n",
       "      <th>day</th>\n",
       "      <th>month</th>\n",
       "      <th>year</th>\n",
       "    </tr>\n",
       "  </thead>\n",
       "  <tbody>\n",
       "    <tr>\n",
       "      <th>0</th>\n",
       "      <td>Jet Airways</td>\n",
       "      <td>6/06/2019</td>\n",
       "      <td>Delhi</td>\n",
       "      <td>Cochin</td>\n",
       "      <td>17:30</td>\n",
       "      <td>04:25 07 Jun</td>\n",
       "      <td>10h 55m</td>\n",
       "      <td>1 stop</td>\n",
       "      <td>No info</td>\n",
       "      <td>6</td>\n",
       "      <td>6</td>\n",
       "      <td>2019</td>\n",
       "    </tr>\n",
       "    <tr>\n",
       "      <th>1</th>\n",
       "      <td>IndiGo</td>\n",
       "      <td>12/05/2019</td>\n",
       "      <td>Kolkata</td>\n",
       "      <td>Banglore</td>\n",
       "      <td>06:20</td>\n",
       "      <td>10:20</td>\n",
       "      <td>4h</td>\n",
       "      <td>1 stop</td>\n",
       "      <td>No info</td>\n",
       "      <td>12</td>\n",
       "      <td>5</td>\n",
       "      <td>2019</td>\n",
       "    </tr>\n",
       "  </tbody>\n",
       "</table>\n",
       "</div>"
      ],
      "text/plain": [
       "       Airline Date_of_Journey   Source Destination Dep_Time  Arrival_Time  \\\n",
       "0  Jet Airways       6/06/2019    Delhi      Cochin    17:30  04:25 07 Jun   \n",
       "1       IndiGo      12/05/2019  Kolkata    Banglore    06:20         10:20   \n",
       "\n",
       "  Duration Total_Stops Additional_Info  day  month  year  \n",
       "0  10h 55m      1 stop         No info    6      6  2019  \n",
       "1       4h      1 stop         No info   12      5  2019  "
      ]
     },
     "execution_count": 65,
     "metadata": {},
     "output_type": "execute_result"
    }
   ],
   "source": [
    "df.head(2)"
   ]
  },
  {
   "cell_type": "code",
   "execution_count": 66,
   "id": "dab5110f-ed83-49a5-bf3c-8be4b3ba4696",
   "metadata": {},
   "outputs": [],
   "source": [
    "df[\"Arrival_hours\"]=df[\"Arrival_Time\"].str.split(\" \").str[0].str.split(\":\").str[0]"
   ]
  },
  {
   "cell_type": "code",
   "execution_count": 67,
   "id": "5a2fa48f-22e5-4755-bf21-b4382767809e",
   "metadata": {},
   "outputs": [],
   "source": [
    "df[\"Arrival_mins\"]=df[\"Arrival_Time\"].str.split(\" \").str[0].str.split(\":\").str[1]"
   ]
  },
  {
   "cell_type": "code",
   "execution_count": 68,
   "id": "eafd4f32-7379-43c9-bb8d-19198b5f464d",
   "metadata": {},
   "outputs": [],
   "source": [
    "df[\"Arrival_hours\"]=df[\"Arrival_hours\"].astype(int)\n",
    "df[\"Arrival_mins\"]=df[\"Arrival_mins\"].astype(int)"
   ]
  },
  {
   "cell_type": "code",
   "execution_count": 69,
   "id": "2566f178-a233-4381-9677-ab3857865c6f",
   "metadata": {},
   "outputs": [],
   "source": [
    "df.drop(columns=[\"Arrival_Time\",\"Date_of_Journey\"], axis=1, inplace=True)"
   ]
  },
  {
   "cell_type": "code",
   "execution_count": 70,
   "id": "283bad6b-2b75-4ec8-bf88-6b342f6afa0e",
   "metadata": {},
   "outputs": [
    {
     "data": {
      "text/html": [
       "<div>\n",
       "<style scoped>\n",
       "    .dataframe tbody tr th:only-of-type {\n",
       "        vertical-align: middle;\n",
       "    }\n",
       "\n",
       "    .dataframe tbody tr th {\n",
       "        vertical-align: top;\n",
       "    }\n",
       "\n",
       "    .dataframe thead th {\n",
       "        text-align: right;\n",
       "    }\n",
       "</style>\n",
       "<table border=\"1\" class=\"dataframe\">\n",
       "  <thead>\n",
       "    <tr style=\"text-align: right;\">\n",
       "      <th></th>\n",
       "      <th>Airline</th>\n",
       "      <th>Source</th>\n",
       "      <th>Destination</th>\n",
       "      <th>Dep_Time</th>\n",
       "      <th>Duration</th>\n",
       "      <th>Total_Stops</th>\n",
       "      <th>Additional_Info</th>\n",
       "      <th>day</th>\n",
       "      <th>month</th>\n",
       "      <th>year</th>\n",
       "      <th>Arrival_hours</th>\n",
       "      <th>Arrival_mins</th>\n",
       "    </tr>\n",
       "  </thead>\n",
       "  <tbody>\n",
       "    <tr>\n",
       "      <th>0</th>\n",
       "      <td>Jet Airways</td>\n",
       "      <td>Delhi</td>\n",
       "      <td>Cochin</td>\n",
       "      <td>17:30</td>\n",
       "      <td>10h 55m</td>\n",
       "      <td>1 stop</td>\n",
       "      <td>No info</td>\n",
       "      <td>6</td>\n",
       "      <td>6</td>\n",
       "      <td>2019</td>\n",
       "      <td>4</td>\n",
       "      <td>25</td>\n",
       "    </tr>\n",
       "    <tr>\n",
       "      <th>1</th>\n",
       "      <td>IndiGo</td>\n",
       "      <td>Kolkata</td>\n",
       "      <td>Banglore</td>\n",
       "      <td>06:20</td>\n",
       "      <td>4h</td>\n",
       "      <td>1 stop</td>\n",
       "      <td>No info</td>\n",
       "      <td>12</td>\n",
       "      <td>5</td>\n",
       "      <td>2019</td>\n",
       "      <td>10</td>\n",
       "      <td>20</td>\n",
       "    </tr>\n",
       "  </tbody>\n",
       "</table>\n",
       "</div>"
      ],
      "text/plain": [
       "       Airline   Source Destination Dep_Time Duration Total_Stops  \\\n",
       "0  Jet Airways    Delhi      Cochin    17:30  10h 55m      1 stop   \n",
       "1       IndiGo  Kolkata    Banglore    06:20       4h      1 stop   \n",
       "\n",
       "  Additional_Info  day  month  year  Arrival_hours  Arrival_mins  \n",
       "0         No info    6      6  2019              4            25  \n",
       "1         No info   12      5  2019             10            20  "
      ]
     },
     "execution_count": 70,
     "metadata": {},
     "output_type": "execute_result"
    }
   ],
   "source": [
    "df.head(2)"
   ]
  },
  {
   "cell_type": "code",
   "execution_count": 71,
   "id": "fcb29563-c409-422f-b540-6c4b3e2fac79",
   "metadata": {},
   "outputs": [],
   "source": [
    "df[\"Dep_hours\"]=df[\"Dep_Time\"].str.split(\":\").str[0]\n",
    "df[\"Dep_mins\"]=df[\"Dep_Time\"].str.split(\":\").str[1]"
   ]
  },
  {
   "cell_type": "code",
   "execution_count": 72,
   "id": "cc0f7927-8689-458c-b7f9-329ef9f277e5",
   "metadata": {},
   "outputs": [],
   "source": [
    "df[\"Dep_hours\"]=df[\"Dep_hours\"].astype(int)\n",
    "df[\"Dep_mins\"]=df[\"Dep_mins\"].astype(int)"
   ]
  },
  {
   "cell_type": "code",
   "execution_count": 73,
   "id": "64298265-63b0-4d37-8b84-7fc7d42903d1",
   "metadata": {},
   "outputs": [
    {
     "data": {
      "text/plain": [
       "Airline            object\n",
       "Source             object\n",
       "Destination        object\n",
       "Dep_Time           object\n",
       "Duration           object\n",
       "Total_Stops        object\n",
       "Additional_Info    object\n",
       "day                 int64\n",
       "month               int64\n",
       "year                int64\n",
       "Arrival_hours       int64\n",
       "Arrival_mins        int64\n",
       "Dep_hours           int64\n",
       "Dep_mins            int64\n",
       "dtype: object"
      ]
     },
     "execution_count": 73,
     "metadata": {},
     "output_type": "execute_result"
    }
   ],
   "source": [
    "df.dtypes"
   ]
  },
  {
   "cell_type": "code",
   "execution_count": 74,
   "id": "9fdcb540-18e4-4deb-841f-6ba33a773b1a",
   "metadata": {},
   "outputs": [],
   "source": [
    "df[\"Duration_hours\"]=df[\"Duration\"].str.split(\" \").str[0].str.split(\"h\").str[0]"
   ]
  },
  {
   "cell_type": "code",
   "execution_count": 75,
   "id": "b91a1758-04d4-443a-bac7-5d35447e56fd",
   "metadata": {},
   "outputs": [],
   "source": [
    "df[\"Duration_mins\"]=df[\"Duration\"].str.split(\" \").str[1].str.split(\"m\").str[0]"
   ]
  },
  {
   "cell_type": "code",
   "execution_count": 76,
   "id": "62d71dda-8c20-4f73-9eac-6fc76300f606",
   "metadata": {},
   "outputs": [
    {
     "data": {
      "text/plain": [
       "30    369\n",
       "20    261\n",
       "45    254\n",
       "50    231\n",
       "15    229\n",
       "35    210\n",
       "25    205\n",
       "55    203\n",
       "40    165\n",
       "5     144\n",
       "10    122\n",
       "Name: Duration_mins, dtype: int64"
      ]
     },
     "execution_count": 76,
     "metadata": {},
     "output_type": "execute_result"
    }
   ],
   "source": [
    "df[\"Duration_mins\"].value_counts()"
   ]
  },
  {
   "cell_type": "code",
   "execution_count": 77,
   "id": "dffffc07-7481-4127-ae8b-5f44b12da61f",
   "metadata": {},
   "outputs": [
    {
     "data": {
      "text/plain": [
       "252"
      ]
     },
     "execution_count": 77,
     "metadata": {},
     "output_type": "execute_result"
    }
   ],
   "source": [
    "df[\"Duration_mins\"].isnull().sum()"
   ]
  },
  {
   "cell_type": "code",
   "execution_count": 78,
   "id": "d34d5a3f-64ef-4417-8cbe-7958394f2029",
   "metadata": {},
   "outputs": [],
   "source": [
    "df[\"Duration_mins\"].fillna(0, inplace=True)"
   ]
  },
  {
   "cell_type": "code",
   "execution_count": 79,
   "id": "8b33c3f4-cfa9-45f6-9f5a-6d8b42e8d1b8",
   "metadata": {},
   "outputs": [
    {
     "data": {
      "text/plain": [
       "0"
      ]
     },
     "execution_count": 79,
     "metadata": {},
     "output_type": "execute_result"
    }
   ],
   "source": [
    "df[\"Duration_mins\"].isnull().sum()"
   ]
  },
  {
   "cell_type": "code",
   "execution_count": 80,
   "id": "25c142d7-eddf-449b-9abc-60697b9c76cb",
   "metadata": {},
   "outputs": [
    {
     "data": {
      "text/html": [
       "<div>\n",
       "<style scoped>\n",
       "    .dataframe tbody tr th:only-of-type {\n",
       "        vertical-align: middle;\n",
       "    }\n",
       "\n",
       "    .dataframe tbody tr th {\n",
       "        vertical-align: top;\n",
       "    }\n",
       "\n",
       "    .dataframe thead th {\n",
       "        text-align: right;\n",
       "    }\n",
       "</style>\n",
       "<table border=\"1\" class=\"dataframe\">\n",
       "  <thead>\n",
       "    <tr style=\"text-align: right;\">\n",
       "      <th></th>\n",
       "      <th>Airline</th>\n",
       "      <th>Source</th>\n",
       "      <th>Destination</th>\n",
       "      <th>Dep_Time</th>\n",
       "      <th>Duration</th>\n",
       "      <th>Total_Stops</th>\n",
       "      <th>Additional_Info</th>\n",
       "      <th>day</th>\n",
       "      <th>month</th>\n",
       "      <th>year</th>\n",
       "      <th>Arrival_hours</th>\n",
       "      <th>Arrival_mins</th>\n",
       "      <th>Dep_hours</th>\n",
       "      <th>Dep_mins</th>\n",
       "      <th>Duration_hours</th>\n",
       "      <th>Duration_mins</th>\n",
       "    </tr>\n",
       "  </thead>\n",
       "  <tbody>\n",
       "    <tr>\n",
       "      <th>0</th>\n",
       "      <td>Jet Airways</td>\n",
       "      <td>Delhi</td>\n",
       "      <td>Cochin</td>\n",
       "      <td>17:30</td>\n",
       "      <td>10h 55m</td>\n",
       "      <td>1 stop</td>\n",
       "      <td>No info</td>\n",
       "      <td>6</td>\n",
       "      <td>6</td>\n",
       "      <td>2019</td>\n",
       "      <td>4</td>\n",
       "      <td>25</td>\n",
       "      <td>17</td>\n",
       "      <td>30</td>\n",
       "      <td>10</td>\n",
       "      <td>55</td>\n",
       "    </tr>\n",
       "    <tr>\n",
       "      <th>1</th>\n",
       "      <td>IndiGo</td>\n",
       "      <td>Kolkata</td>\n",
       "      <td>Banglore</td>\n",
       "      <td>06:20</td>\n",
       "      <td>4h</td>\n",
       "      <td>1 stop</td>\n",
       "      <td>No info</td>\n",
       "      <td>12</td>\n",
       "      <td>5</td>\n",
       "      <td>2019</td>\n",
       "      <td>10</td>\n",
       "      <td>20</td>\n",
       "      <td>6</td>\n",
       "      <td>20</td>\n",
       "      <td>4</td>\n",
       "      <td>0</td>\n",
       "    </tr>\n",
       "  </tbody>\n",
       "</table>\n",
       "</div>"
      ],
      "text/plain": [
       "       Airline   Source Destination Dep_Time Duration Total_Stops  \\\n",
       "0  Jet Airways    Delhi      Cochin    17:30  10h 55m      1 stop   \n",
       "1       IndiGo  Kolkata    Banglore    06:20       4h      1 stop   \n",
       "\n",
       "  Additional_Info  day  month  year  Arrival_hours  Arrival_mins  Dep_hours  \\\n",
       "0         No info    6      6  2019              4            25         17   \n",
       "1         No info   12      5  2019             10            20          6   \n",
       "\n",
       "   Dep_mins Duration_hours Duration_mins  \n",
       "0        30             10            55  \n",
       "1        20              4             0  "
      ]
     },
     "execution_count": 80,
     "metadata": {},
     "output_type": "execute_result"
    }
   ],
   "source": [
    "df.head(2)"
   ]
  },
  {
   "cell_type": "code",
   "execution_count": 81,
   "id": "caa09f48-8e34-4cdd-bd18-61f17e30c58a",
   "metadata": {},
   "outputs": [
    {
     "data": {
      "text/plain": [
       "Airline            object\n",
       "Source             object\n",
       "Destination        object\n",
       "Dep_Time           object\n",
       "Duration           object\n",
       "Total_Stops        object\n",
       "Additional_Info    object\n",
       "day                 int64\n",
       "month               int64\n",
       "year                int64\n",
       "Arrival_hours       int64\n",
       "Arrival_mins        int64\n",
       "Dep_hours           int64\n",
       "Dep_mins            int64\n",
       "Duration_hours     object\n",
       "Duration_mins      object\n",
       "dtype: object"
      ]
     },
     "execution_count": 81,
     "metadata": {},
     "output_type": "execute_result"
    }
   ],
   "source": [
    "df.dtypes"
   ]
  },
  {
   "cell_type": "code",
   "execution_count": 82,
   "id": "3829f5a9-7c7d-4ff8-8295-d66d35233486",
   "metadata": {},
   "outputs": [],
   "source": [
    "df[\"Duration_hours\"]=df[\"Duration_hours\"].str.split(\"m\").str[0]"
   ]
  },
  {
   "cell_type": "code",
   "execution_count": 83,
   "id": "187edff0-9c82-40b5-acf1-2958045800e2",
   "metadata": {},
   "outputs": [],
   "source": [
    "df[\"Duration_hours\"]=df[\"Duration_hours\"].astype(int)\n",
    "df[\"Duration_mins\"]=df[\"Duration_mins\"].astype(int)"
   ]
  },
  {
   "cell_type": "code",
   "execution_count": 84,
   "id": "621fe712-8659-4f14-ac0a-b05cda4309dd",
   "metadata": {},
   "outputs": [
    {
     "data": {
      "text/plain": [
       "Airline            object\n",
       "Source             object\n",
       "Destination        object\n",
       "Dep_Time           object\n",
       "Duration           object\n",
       "Total_Stops        object\n",
       "Additional_Info    object\n",
       "day                 int64\n",
       "month               int64\n",
       "year                int64\n",
       "Arrival_hours       int64\n",
       "Arrival_mins        int64\n",
       "Dep_hours           int64\n",
       "Dep_mins            int64\n",
       "Duration_hours      int64\n",
       "Duration_mins       int64\n",
       "dtype: object"
      ]
     },
     "execution_count": 84,
     "metadata": {},
     "output_type": "execute_result"
    }
   ],
   "source": [
    "df.dtypes"
   ]
  },
  {
   "cell_type": "code",
   "execution_count": 85,
   "id": "0f553b1c-a741-4a4d-8547-b267ba0a7e63",
   "metadata": {},
   "outputs": [],
   "source": [
    "df.drop(columns=[\"Dep_Time\",\"Duration\",\"Additional_Info\"], axis=1, inplace=True)"
   ]
  },
  {
   "cell_type": "code",
   "execution_count": 86,
   "id": "d952a17c-146e-44ce-8cc5-bcfef238c254",
   "metadata": {},
   "outputs": [
    {
     "data": {
      "text/html": [
       "<div>\n",
       "<style scoped>\n",
       "    .dataframe tbody tr th:only-of-type {\n",
       "        vertical-align: middle;\n",
       "    }\n",
       "\n",
       "    .dataframe tbody tr th {\n",
       "        vertical-align: top;\n",
       "    }\n",
       "\n",
       "    .dataframe thead th {\n",
       "        text-align: right;\n",
       "    }\n",
       "</style>\n",
       "<table border=\"1\" class=\"dataframe\">\n",
       "  <thead>\n",
       "    <tr style=\"text-align: right;\">\n",
       "      <th></th>\n",
       "      <th>Airline</th>\n",
       "      <th>Source</th>\n",
       "      <th>Destination</th>\n",
       "      <th>Total_Stops</th>\n",
       "      <th>day</th>\n",
       "      <th>month</th>\n",
       "      <th>year</th>\n",
       "      <th>Arrival_hours</th>\n",
       "      <th>Arrival_mins</th>\n",
       "      <th>Dep_hours</th>\n",
       "      <th>Dep_mins</th>\n",
       "      <th>Duration_hours</th>\n",
       "      <th>Duration_mins</th>\n",
       "    </tr>\n",
       "  </thead>\n",
       "  <tbody>\n",
       "    <tr>\n",
       "      <th>0</th>\n",
       "      <td>Jet Airways</td>\n",
       "      <td>Delhi</td>\n",
       "      <td>Cochin</td>\n",
       "      <td>1 stop</td>\n",
       "      <td>6</td>\n",
       "      <td>6</td>\n",
       "      <td>2019</td>\n",
       "      <td>4</td>\n",
       "      <td>25</td>\n",
       "      <td>17</td>\n",
       "      <td>30</td>\n",
       "      <td>10</td>\n",
       "      <td>55</td>\n",
       "    </tr>\n",
       "    <tr>\n",
       "      <th>1</th>\n",
       "      <td>IndiGo</td>\n",
       "      <td>Kolkata</td>\n",
       "      <td>Banglore</td>\n",
       "      <td>1 stop</td>\n",
       "      <td>12</td>\n",
       "      <td>5</td>\n",
       "      <td>2019</td>\n",
       "      <td>10</td>\n",
       "      <td>20</td>\n",
       "      <td>6</td>\n",
       "      <td>20</td>\n",
       "      <td>4</td>\n",
       "      <td>0</td>\n",
       "    </tr>\n",
       "  </tbody>\n",
       "</table>\n",
       "</div>"
      ],
      "text/plain": [
       "       Airline   Source Destination Total_Stops  day  month  year  \\\n",
       "0  Jet Airways    Delhi      Cochin      1 stop    6      6  2019   \n",
       "1       IndiGo  Kolkata    Banglore      1 stop   12      5  2019   \n",
       "\n",
       "   Arrival_hours  Arrival_mins  Dep_hours  Dep_mins  Duration_hours  \\\n",
       "0              4            25         17        30              10   \n",
       "1             10            20          6        20               4   \n",
       "\n",
       "   Duration_mins  \n",
       "0             55  \n",
       "1              0  "
      ]
     },
     "execution_count": 86,
     "metadata": {},
     "output_type": "execute_result"
    }
   ],
   "source": [
    "df.head(2)"
   ]
  },
  {
   "cell_type": "code",
   "execution_count": 87,
   "id": "d5a2ec8a-f25b-479c-9db6-b2cccb8ece01",
   "metadata": {},
   "outputs": [
    {
     "data": {
      "text/plain": [
       "1 stop      1427\n",
       "non-stop     846\n",
       "2 stops      360\n",
       "3 stops       11\n",
       "4 stops        1\n",
       "Name: Total_Stops, dtype: int64"
      ]
     },
     "execution_count": 87,
     "metadata": {},
     "output_type": "execute_result"
    }
   ],
   "source": [
    "df[\"Total_Stops\"].value_counts()"
   ]
  },
  {
   "cell_type": "code",
   "execution_count": 88,
   "id": "fbd6d5bb-5337-4b09-8509-a83c34713ca9",
   "metadata": {},
   "outputs": [
    {
     "data": {
      "text/plain": [
       "0"
      ]
     },
     "execution_count": 88,
     "metadata": {},
     "output_type": "execute_result"
    }
   ],
   "source": [
    "df[\"Total_Stops\"].isnull().sum()"
   ]
  },
  {
   "cell_type": "code",
   "execution_count": 89,
   "id": "ce57850e-6551-4b56-b7c0-45161e4ac30e",
   "metadata": {},
   "outputs": [],
   "source": [
    "df[\"Total_Stops\"]=df[\"Total_Stops\"].map({\"non-stop\":0, \"1 stop\":1, \"2 stops\":2, \n",
    "                                         \"3 stops\":3,\"4 stops\":4})"
   ]
  },
  {
   "cell_type": "code",
   "execution_count": 90,
   "id": "9a630471-eef0-4e00-a16e-20d17fad41e0",
   "metadata": {},
   "outputs": [
    {
     "data": {
      "text/html": [
       "<div>\n",
       "<style scoped>\n",
       "    .dataframe tbody tr th:only-of-type {\n",
       "        vertical-align: middle;\n",
       "    }\n",
       "\n",
       "    .dataframe tbody tr th {\n",
       "        vertical-align: top;\n",
       "    }\n",
       "\n",
       "    .dataframe thead th {\n",
       "        text-align: right;\n",
       "    }\n",
       "</style>\n",
       "<table border=\"1\" class=\"dataframe\">\n",
       "  <thead>\n",
       "    <tr style=\"text-align: right;\">\n",
       "      <th></th>\n",
       "      <th>Airline</th>\n",
       "      <th>Source</th>\n",
       "      <th>Destination</th>\n",
       "      <th>Total_Stops</th>\n",
       "      <th>day</th>\n",
       "      <th>month</th>\n",
       "      <th>year</th>\n",
       "      <th>Arrival_hours</th>\n",
       "      <th>Arrival_mins</th>\n",
       "      <th>Dep_hours</th>\n",
       "      <th>Dep_mins</th>\n",
       "      <th>Duration_hours</th>\n",
       "      <th>Duration_mins</th>\n",
       "    </tr>\n",
       "  </thead>\n",
       "  <tbody>\n",
       "    <tr>\n",
       "      <th>0</th>\n",
       "      <td>Jet Airways</td>\n",
       "      <td>Delhi</td>\n",
       "      <td>Cochin</td>\n",
       "      <td>1</td>\n",
       "      <td>6</td>\n",
       "      <td>6</td>\n",
       "      <td>2019</td>\n",
       "      <td>4</td>\n",
       "      <td>25</td>\n",
       "      <td>17</td>\n",
       "      <td>30</td>\n",
       "      <td>10</td>\n",
       "      <td>55</td>\n",
       "    </tr>\n",
       "    <tr>\n",
       "      <th>1</th>\n",
       "      <td>IndiGo</td>\n",
       "      <td>Kolkata</td>\n",
       "      <td>Banglore</td>\n",
       "      <td>1</td>\n",
       "      <td>12</td>\n",
       "      <td>5</td>\n",
       "      <td>2019</td>\n",
       "      <td>10</td>\n",
       "      <td>20</td>\n",
       "      <td>6</td>\n",
       "      <td>20</td>\n",
       "      <td>4</td>\n",
       "      <td>0</td>\n",
       "    </tr>\n",
       "  </tbody>\n",
       "</table>\n",
       "</div>"
      ],
      "text/plain": [
       "       Airline   Source Destination  Total_Stops  day  month  year  \\\n",
       "0  Jet Airways    Delhi      Cochin            1    6      6  2019   \n",
       "1       IndiGo  Kolkata    Banglore            1   12      5  2019   \n",
       "\n",
       "   Arrival_hours  Arrival_mins  Dep_hours  Dep_mins  Duration_hours  \\\n",
       "0              4            25         17        30              10   \n",
       "1             10            20          6        20               4   \n",
       "\n",
       "   Duration_mins  \n",
       "0             55  \n",
       "1              0  "
      ]
     },
     "execution_count": 90,
     "metadata": {},
     "output_type": "execute_result"
    }
   ],
   "source": [
    "df.head(2)"
   ]
  },
  {
   "cell_type": "code",
   "execution_count": 91,
   "id": "d90dd52b-4f53-444c-9607-d71d8a782c7a",
   "metadata": {},
   "outputs": [
    {
     "data": {
      "text/plain": [
       "Airline           object\n",
       "Source            object\n",
       "Destination       object\n",
       "Total_Stops        int64\n",
       "day                int64\n",
       "month              int64\n",
       "year               int64\n",
       "Arrival_hours      int64\n",
       "Arrival_mins       int64\n",
       "Dep_hours          int64\n",
       "Dep_mins           int64\n",
       "Duration_hours     int64\n",
       "Duration_mins      int64\n",
       "dtype: object"
      ]
     },
     "execution_count": 91,
     "metadata": {},
     "output_type": "execute_result"
    }
   ],
   "source": [
    "df.dtypes"
   ]
  },
  {
   "cell_type": "code",
   "execution_count": 102,
   "id": "4298b271-c45e-4434-a43b-055a12c494e0",
   "metadata": {},
   "outputs": [],
   "source": [
    "from sklearn.preprocessing import OneHotEncoder"
   ]
  },
  {
   "cell_type": "code",
   "execution_count": 103,
   "id": "c7f07718-5cf7-4603-b4a9-3e3f649a0b0f",
   "metadata": {},
   "outputs": [],
   "source": [
    "encoder=OneHotEncoder()"
   ]
  },
  {
   "cell_type": "code",
   "execution_count": 104,
   "id": "a064386b-30e7-4163-9a0e-1843a64fa79a",
   "metadata": {},
   "outputs": [
    {
     "data": {
      "text/plain": [
       "array([[0., 1., 0., ..., 1., 0., 0.],\n",
       "       [1., 0., 0., ..., 0., 1., 0.],\n",
       "       [0., 1., 0., ..., 1., 0., 0.],\n",
       "       ...,\n",
       "       [0., 1., 0., ..., 1., 0., 0.],\n",
       "       [0., 1., 0., ..., 1., 0., 0.],\n",
       "       [0., 1., 0., ..., 1., 0., 0.]])"
      ]
     },
     "execution_count": 104,
     "metadata": {},
     "output_type": "execute_result"
    }
   ],
   "source": [
    "encoder.fit_transform(df[[\"Destination\",\"Airline\",\"Source\"]]).toarray()"
   ]
  },
  {
   "cell_type": "code",
   "execution_count": 105,
   "id": "b2bc4078-4c80-41cb-9037-201cfb324813",
   "metadata": {},
   "outputs": [],
   "source": [
    "df_encoded=pd.DataFrame(encoder.fit_transform(df[[\"Destination\",\"Airline\",\"Source\"]]).toarray(), \n",
    "             columns=encoder.get_feature_names_out())"
   ]
  },
  {
   "cell_type": "code",
   "execution_count": 107,
   "id": "e8acb76e-89e4-4af9-b118-e994fd0fd39a",
   "metadata": {},
   "outputs": [
    {
     "data": {
      "text/html": [
       "<div>\n",
       "<style scoped>\n",
       "    .dataframe tbody tr th:only-of-type {\n",
       "        vertical-align: middle;\n",
       "    }\n",
       "\n",
       "    .dataframe tbody tr th {\n",
       "        vertical-align: top;\n",
       "    }\n",
       "\n",
       "    .dataframe thead th {\n",
       "        text-align: right;\n",
       "    }\n",
       "</style>\n",
       "<table border=\"1\" class=\"dataframe\">\n",
       "  <thead>\n",
       "    <tr style=\"text-align: right;\">\n",
       "      <th></th>\n",
       "      <th>Airline</th>\n",
       "      <th>Source</th>\n",
       "      <th>Destination</th>\n",
       "      <th>Total_Stops</th>\n",
       "      <th>day</th>\n",
       "      <th>month</th>\n",
       "      <th>year</th>\n",
       "      <th>Arrival_hours</th>\n",
       "      <th>Arrival_mins</th>\n",
       "      <th>Dep_hours</th>\n",
       "      <th>...</th>\n",
       "      <th>Airline_Multiple carriers</th>\n",
       "      <th>Airline_Multiple carriers Premium economy</th>\n",
       "      <th>Airline_SpiceJet</th>\n",
       "      <th>Airline_Vistara</th>\n",
       "      <th>Airline_Vistara Premium economy</th>\n",
       "      <th>Source_Banglore</th>\n",
       "      <th>Source_Chennai</th>\n",
       "      <th>Source_Delhi</th>\n",
       "      <th>Source_Kolkata</th>\n",
       "      <th>Source_Mumbai</th>\n",
       "    </tr>\n",
       "  </thead>\n",
       "  <tbody>\n",
       "    <tr>\n",
       "      <th>0</th>\n",
       "      <td>Jet Airways</td>\n",
       "      <td>Delhi</td>\n",
       "      <td>Cochin</td>\n",
       "      <td>1.0</td>\n",
       "      <td>6.0</td>\n",
       "      <td>6.0</td>\n",
       "      <td>2019.0</td>\n",
       "      <td>4.0</td>\n",
       "      <td>25.0</td>\n",
       "      <td>17.0</td>\n",
       "      <td>...</td>\n",
       "      <td>0.0</td>\n",
       "      <td>0.0</td>\n",
       "      <td>0.0</td>\n",
       "      <td>0.0</td>\n",
       "      <td>0.0</td>\n",
       "      <td>0.0</td>\n",
       "      <td>0.0</td>\n",
       "      <td>1.0</td>\n",
       "      <td>0.0</td>\n",
       "      <td>0.0</td>\n",
       "    </tr>\n",
       "    <tr>\n",
       "      <th>1</th>\n",
       "      <td>IndiGo</td>\n",
       "      <td>Kolkata</td>\n",
       "      <td>Banglore</td>\n",
       "      <td>1.0</td>\n",
       "      <td>12.0</td>\n",
       "      <td>5.0</td>\n",
       "      <td>2019.0</td>\n",
       "      <td>10.0</td>\n",
       "      <td>20.0</td>\n",
       "      <td>6.0</td>\n",
       "      <td>...</td>\n",
       "      <td>0.0</td>\n",
       "      <td>0.0</td>\n",
       "      <td>0.0</td>\n",
       "      <td>0.0</td>\n",
       "      <td>0.0</td>\n",
       "      <td>0.0</td>\n",
       "      <td>0.0</td>\n",
       "      <td>0.0</td>\n",
       "      <td>1.0</td>\n",
       "      <td>0.0</td>\n",
       "    </tr>\n",
       "    <tr>\n",
       "      <th>2</th>\n",
       "      <td>Jet Airways</td>\n",
       "      <td>Delhi</td>\n",
       "      <td>Cochin</td>\n",
       "      <td>1.0</td>\n",
       "      <td>21.0</td>\n",
       "      <td>5.0</td>\n",
       "      <td>2019.0</td>\n",
       "      <td>19.0</td>\n",
       "      <td>0.0</td>\n",
       "      <td>19.0</td>\n",
       "      <td>...</td>\n",
       "      <td>0.0</td>\n",
       "      <td>0.0</td>\n",
       "      <td>0.0</td>\n",
       "      <td>0.0</td>\n",
       "      <td>0.0</td>\n",
       "      <td>0.0</td>\n",
       "      <td>0.0</td>\n",
       "      <td>1.0</td>\n",
       "      <td>0.0</td>\n",
       "      <td>0.0</td>\n",
       "    </tr>\n",
       "    <tr>\n",
       "      <th>3</th>\n",
       "      <td>Multiple carriers</td>\n",
       "      <td>Delhi</td>\n",
       "      <td>Cochin</td>\n",
       "      <td>1.0</td>\n",
       "      <td>21.0</td>\n",
       "      <td>5.0</td>\n",
       "      <td>2019.0</td>\n",
       "      <td>21.0</td>\n",
       "      <td>0.0</td>\n",
       "      <td>8.0</td>\n",
       "      <td>...</td>\n",
       "      <td>1.0</td>\n",
       "      <td>0.0</td>\n",
       "      <td>0.0</td>\n",
       "      <td>0.0</td>\n",
       "      <td>0.0</td>\n",
       "      <td>0.0</td>\n",
       "      <td>0.0</td>\n",
       "      <td>1.0</td>\n",
       "      <td>0.0</td>\n",
       "      <td>0.0</td>\n",
       "    </tr>\n",
       "    <tr>\n",
       "      <th>4</th>\n",
       "      <td>Air Asia</td>\n",
       "      <td>Banglore</td>\n",
       "      <td>Delhi</td>\n",
       "      <td>0.0</td>\n",
       "      <td>24.0</td>\n",
       "      <td>6.0</td>\n",
       "      <td>2019.0</td>\n",
       "      <td>2.0</td>\n",
       "      <td>45.0</td>\n",
       "      <td>23.0</td>\n",
       "      <td>...</td>\n",
       "      <td>0.0</td>\n",
       "      <td>0.0</td>\n",
       "      <td>0.0</td>\n",
       "      <td>0.0</td>\n",
       "      <td>0.0</td>\n",
       "      <td>1.0</td>\n",
       "      <td>0.0</td>\n",
       "      <td>0.0</td>\n",
       "      <td>0.0</td>\n",
       "      <td>0.0</td>\n",
       "    </tr>\n",
       "    <tr>\n",
       "      <th>...</th>\n",
       "      <td>...</td>\n",
       "      <td>...</td>\n",
       "      <td>...</td>\n",
       "      <td>...</td>\n",
       "      <td>...</td>\n",
       "      <td>...</td>\n",
       "      <td>...</td>\n",
       "      <td>...</td>\n",
       "      <td>...</td>\n",
       "      <td>...</td>\n",
       "      <td>...</td>\n",
       "      <td>...</td>\n",
       "      <td>...</td>\n",
       "      <td>...</td>\n",
       "      <td>...</td>\n",
       "      <td>...</td>\n",
       "      <td>...</td>\n",
       "      <td>...</td>\n",
       "      <td>...</td>\n",
       "      <td>...</td>\n",
       "      <td>...</td>\n",
       "    </tr>\n",
       "    <tr>\n",
       "      <th>2536</th>\n",
       "      <td>NaN</td>\n",
       "      <td>NaN</td>\n",
       "      <td>NaN</td>\n",
       "      <td>NaN</td>\n",
       "      <td>NaN</td>\n",
       "      <td>NaN</td>\n",
       "      <td>NaN</td>\n",
       "      <td>NaN</td>\n",
       "      <td>NaN</td>\n",
       "      <td>NaN</td>\n",
       "      <td>...</td>\n",
       "      <td>0.0</td>\n",
       "      <td>0.0</td>\n",
       "      <td>1.0</td>\n",
       "      <td>0.0</td>\n",
       "      <td>0.0</td>\n",
       "      <td>0.0</td>\n",
       "      <td>0.0</td>\n",
       "      <td>0.0</td>\n",
       "      <td>0.0</td>\n",
       "      <td>1.0</td>\n",
       "    </tr>\n",
       "    <tr>\n",
       "      <th>2553</th>\n",
       "      <td>NaN</td>\n",
       "      <td>NaN</td>\n",
       "      <td>NaN</td>\n",
       "      <td>NaN</td>\n",
       "      <td>NaN</td>\n",
       "      <td>NaN</td>\n",
       "      <td>NaN</td>\n",
       "      <td>NaN</td>\n",
       "      <td>NaN</td>\n",
       "      <td>NaN</td>\n",
       "      <td>...</td>\n",
       "      <td>1.0</td>\n",
       "      <td>0.0</td>\n",
       "      <td>0.0</td>\n",
       "      <td>0.0</td>\n",
       "      <td>0.0</td>\n",
       "      <td>0.0</td>\n",
       "      <td>0.0</td>\n",
       "      <td>1.0</td>\n",
       "      <td>0.0</td>\n",
       "      <td>0.0</td>\n",
       "    </tr>\n",
       "    <tr>\n",
       "      <th>2560</th>\n",
       "      <td>NaN</td>\n",
       "      <td>NaN</td>\n",
       "      <td>NaN</td>\n",
       "      <td>NaN</td>\n",
       "      <td>NaN</td>\n",
       "      <td>NaN</td>\n",
       "      <td>NaN</td>\n",
       "      <td>NaN</td>\n",
       "      <td>NaN</td>\n",
       "      <td>NaN</td>\n",
       "      <td>...</td>\n",
       "      <td>0.0</td>\n",
       "      <td>0.0</td>\n",
       "      <td>0.0</td>\n",
       "      <td>0.0</td>\n",
       "      <td>0.0</td>\n",
       "      <td>0.0</td>\n",
       "      <td>0.0</td>\n",
       "      <td>1.0</td>\n",
       "      <td>0.0</td>\n",
       "      <td>0.0</td>\n",
       "    </tr>\n",
       "    <tr>\n",
       "      <th>2582</th>\n",
       "      <td>NaN</td>\n",
       "      <td>NaN</td>\n",
       "      <td>NaN</td>\n",
       "      <td>NaN</td>\n",
       "      <td>NaN</td>\n",
       "      <td>NaN</td>\n",
       "      <td>NaN</td>\n",
       "      <td>NaN</td>\n",
       "      <td>NaN</td>\n",
       "      <td>NaN</td>\n",
       "      <td>...</td>\n",
       "      <td>0.0</td>\n",
       "      <td>0.0</td>\n",
       "      <td>0.0</td>\n",
       "      <td>1.0</td>\n",
       "      <td>0.0</td>\n",
       "      <td>1.0</td>\n",
       "      <td>0.0</td>\n",
       "      <td>0.0</td>\n",
       "      <td>0.0</td>\n",
       "      <td>0.0</td>\n",
       "    </tr>\n",
       "    <tr>\n",
       "      <th>2583</th>\n",
       "      <td>NaN</td>\n",
       "      <td>NaN</td>\n",
       "      <td>NaN</td>\n",
       "      <td>NaN</td>\n",
       "      <td>NaN</td>\n",
       "      <td>NaN</td>\n",
       "      <td>NaN</td>\n",
       "      <td>NaN</td>\n",
       "      <td>NaN</td>\n",
       "      <td>NaN</td>\n",
       "      <td>...</td>\n",
       "      <td>0.0</td>\n",
       "      <td>0.0</td>\n",
       "      <td>1.0</td>\n",
       "      <td>0.0</td>\n",
       "      <td>0.0</td>\n",
       "      <td>0.0</td>\n",
       "      <td>0.0</td>\n",
       "      <td>0.0</td>\n",
       "      <td>0.0</td>\n",
       "      <td>1.0</td>\n",
       "    </tr>\n",
       "  </tbody>\n",
       "</table>\n",
       "<p>2671 rows × 35 columns</p>\n",
       "</div>"
      ],
      "text/plain": [
       "                Airline    Source Destination  Total_Stops   day  month  \\\n",
       "0           Jet Airways     Delhi      Cochin          1.0   6.0    6.0   \n",
       "1                IndiGo   Kolkata    Banglore          1.0  12.0    5.0   \n",
       "2           Jet Airways     Delhi      Cochin          1.0  21.0    5.0   \n",
       "3     Multiple carriers     Delhi      Cochin          1.0  21.0    5.0   \n",
       "4              Air Asia  Banglore       Delhi          0.0  24.0    6.0   \n",
       "...                 ...       ...         ...          ...   ...    ...   \n",
       "2536                NaN       NaN         NaN          NaN   NaN    NaN   \n",
       "2553                NaN       NaN         NaN          NaN   NaN    NaN   \n",
       "2560                NaN       NaN         NaN          NaN   NaN    NaN   \n",
       "2582                NaN       NaN         NaN          NaN   NaN    NaN   \n",
       "2583                NaN       NaN         NaN          NaN   NaN    NaN   \n",
       "\n",
       "        year  Arrival_hours  Arrival_mins  Dep_hours  ...  \\\n",
       "0     2019.0            4.0          25.0       17.0  ...   \n",
       "1     2019.0           10.0          20.0        6.0  ...   \n",
       "2     2019.0           19.0           0.0       19.0  ...   \n",
       "3     2019.0           21.0           0.0        8.0  ...   \n",
       "4     2019.0            2.0          45.0       23.0  ...   \n",
       "...      ...            ...           ...        ...  ...   \n",
       "2536     NaN            NaN           NaN        NaN  ...   \n",
       "2553     NaN            NaN           NaN        NaN  ...   \n",
       "2560     NaN            NaN           NaN        NaN  ...   \n",
       "2582     NaN            NaN           NaN        NaN  ...   \n",
       "2583     NaN            NaN           NaN        NaN  ...   \n",
       "\n",
       "      Airline_Multiple carriers  Airline_Multiple carriers Premium economy  \\\n",
       "0                           0.0                                        0.0   \n",
       "1                           0.0                                        0.0   \n",
       "2                           0.0                                        0.0   \n",
       "3                           1.0                                        0.0   \n",
       "4                           0.0                                        0.0   \n",
       "...                         ...                                        ...   \n",
       "2536                        0.0                                        0.0   \n",
       "2553                        1.0                                        0.0   \n",
       "2560                        0.0                                        0.0   \n",
       "2582                        0.0                                        0.0   \n",
       "2583                        0.0                                        0.0   \n",
       "\n",
       "      Airline_SpiceJet  Airline_Vistara  Airline_Vistara Premium economy  \\\n",
       "0                  0.0              0.0                              0.0   \n",
       "1                  0.0              0.0                              0.0   \n",
       "2                  0.0              0.0                              0.0   \n",
       "3                  0.0              0.0                              0.0   \n",
       "4                  0.0              0.0                              0.0   \n",
       "...                ...              ...                              ...   \n",
       "2536               1.0              0.0                              0.0   \n",
       "2553               0.0              0.0                              0.0   \n",
       "2560               0.0              0.0                              0.0   \n",
       "2582               0.0              1.0                              0.0   \n",
       "2583               1.0              0.0                              0.0   \n",
       "\n",
       "      Source_Banglore  Source_Chennai  Source_Delhi  Source_Kolkata  \\\n",
       "0                 0.0             0.0           1.0             0.0   \n",
       "1                 0.0             0.0           0.0             1.0   \n",
       "2                 0.0             0.0           1.0             0.0   \n",
       "3                 0.0             0.0           1.0             0.0   \n",
       "4                 1.0             0.0           0.0             0.0   \n",
       "...               ...             ...           ...             ...   \n",
       "2536              0.0             0.0           0.0             0.0   \n",
       "2553              0.0             0.0           1.0             0.0   \n",
       "2560              0.0             0.0           1.0             0.0   \n",
       "2582              1.0             0.0           0.0             0.0   \n",
       "2583              0.0             0.0           0.0             0.0   \n",
       "\n",
       "      Source_Mumbai  \n",
       "0               0.0  \n",
       "1               0.0  \n",
       "2               0.0  \n",
       "3               0.0  \n",
       "4               0.0  \n",
       "...             ...  \n",
       "2536            1.0  \n",
       "2553            0.0  \n",
       "2560            0.0  \n",
       "2582            0.0  \n",
       "2583            1.0  \n",
       "\n",
       "[2671 rows x 35 columns]"
      ]
     },
     "execution_count": 107,
     "metadata": {},
     "output_type": "execute_result"
    }
   ],
   "source": [
    "pd.concat([df,df_encoded],axis=1)"
   ]
  }
 ],
 "metadata": {
  "kernelspec": {
   "display_name": "Python 3 (ipykernel)",
   "language": "python",
   "name": "python3"
  },
  "language_info": {
   "codemirror_mode": {
    "name": "ipython",
    "version": 3
   },
   "file_extension": ".py",
   "mimetype": "text/x-python",
   "name": "python",
   "nbconvert_exporter": "python",
   "pygments_lexer": "ipython3",
   "version": "3.10.8"
  }
 },
 "nbformat": 4,
 "nbformat_minor": 5
}
